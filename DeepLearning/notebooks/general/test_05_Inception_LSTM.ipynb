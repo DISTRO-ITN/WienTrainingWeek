{
 "cells": [
  {
   "cell_type": "code",
   "execution_count": 1,
   "metadata": {
    "collapsed": false
   },
   "outputs": [
    {
     "name": "stderr",
     "output_type": "stream",
     "text": [
      "Using TensorFlow backend.\n"
     ]
    }
   ],
   "source": [
    "import tensorflow as tf\n",
    "from keras import backend as K\n",
    "from keras.layers import Conv2D, MaxPooling2D, Flatten\n",
    "from keras.layers import Input, LSTM, Embedding, Dense\n",
    "from keras.models import Model, Sequential\n",
    "from keras.applications import InceptionV3, VGG19\n",
    "from keras.layers import TimeDistributed\n",
    "\n",
    "import numpy as np"
   ]
  },
  {
   "cell_type": "markdown",
   "metadata": {},
   "source": [
    "<img src=\"https://github.com/imatge-upc/activitynet-2016-cvprw/blob/master/misc/images/network_pipeline.jpg?raw=true\" height=\"424\" width=\"400\">"
   ]
  },
  {
   "cell_type": "code",
   "execution_count": 2,
   "metadata": {
    "collapsed": true
   },
   "outputs": [],
   "source": [
    "# # define CNN model\n",
    "#cnn = Sequential()\n",
    "#cnn.add(Conv2D(...))\n",
    "#cnn.add(MaxPooling2D(...))\n",
    "#cnn.add(Flatten())\n",
    "# #define LSTM model\n",
    "#model = Sequential()\n",
    "#model.add(TimeDistributed(cnn, ...))\n",
    "#model.add(LSTM(..))\n",
    "#model.add(Dense(...))"
   ]
  },
  {
   "cell_type": "code",
   "execution_count": 3,
   "metadata": {
    "collapsed": true
   },
   "outputs": [],
   "source": [
    "#model = Sequential()\n",
    "# # define CNN model\n",
    "#model.add(TimeDistributed(Conv2D(...))\n",
    "#model.add(TimeDistributed(MaxPooling2D(...)))\n",
    "#model.add(TimeDistributed(Flatten()))\n",
    "# # define LSTM model\n",
    "#model.add(LSTM(...))\n",
    "#model.add(Dense(...))"
   ]
  },
  {
   "cell_type": "code",
   "execution_count": 4,
   "metadata": {
    "collapsed": false
   },
   "outputs": [
    {
     "name": "stdout",
     "output_type": "stream",
     "text": [
      "_________________________________________________________________\n",
      "Layer (type)                 Output Shape              Param #   \n",
      "=================================================================\n",
      "video_input (InputLayer)     (None, None, 229, 229, 3) 0         \n",
      "_________________________________________________________________\n",
      "time_distributed_1 (TimeDist (None, None, 1000)        23851784  \n",
      "_________________________________________________________________\n",
      "lstm_1 (LSTM)                (None, 256)               1287168   \n",
      "_________________________________________________________________\n",
      "dense_1 (Dense)              (None, 256)               65792     \n",
      "=================================================================\n",
      "Total params: 25,204,744\n",
      "Trainable params: 1,352,960\n",
      "Non-trainable params: 23,851,784\n",
      "_________________________________________________________________\n",
      "None\n",
      "(3, 50, 229, 229, 3)\n",
      "Epoch 1/10\n",
      "3/3 [==============================] - 65s 22s/step - loss: 0.3302\b\b\b\b\b\b\b\b\b\b\b\b\b\b\b\b\b\b\b\b\b\b\b\b\b\b\b\b\b\b\b\b\b\b\b\b\b\b\b\b\b\b\b\b\b\b\b\b\b\b\b\b\b\b\b\b\b\b\b\b\b\b\b\b\b\b\b\b\b\b\b\b\b\b\b\b\b\b\b\b\b\b\b\b\b\b\b\b\b\b\b\b\b\b\b\b\b\b\b\b\b\b\b\b\b\b\b\b\b\b\b\b\b\b\b\b\b\b\b\b\n",
      "Epoch 2/10\n",
      "3/3 [==============================] - 64s 21s/step - loss: 0.2954\b\b\b\b\b\b\b\b\b\b\b\b\b\b\b\b\b\b\b\b\b\b\b\b\b\b\b\b\b\b\b\b\b\b\b\b\b\b\b\b\b\b\b\b\b\b\b\b\b\b\b\b\b\b\b\b\b\b\b\b\b\b\b\b\b\b\b\b\b\b\b\b\b\b\b\b\b\b\b\b\b\b\b\b\b\b\b\b\b\b\b\b\b\b\b\b\b\b\b\b\b\b\b\b\b\b\b\b\b\b\b\b\b\b\b\b\b\b\b\b\n",
      "Epoch 3/10\n",
      "3/3 [==============================] - 72s 24s/step - loss: 0.2445\b\b\b\b\b\b\b\b\b\b\b\b\b\b\b\b\b\b\b\b\b\b\b\b\b\b\b\b\b\b\b\b\b\b\b\b\b\b\b\b\b\b\b\b\b\b\b\b\b\b\b\b\b\b\b\b\b\b\b\b\b\b\b\b\b\b\b\b\b\b\b\b\b\b\b\b\b\b\b\b\b\b\b\b\b\b\b\b\b\b\b\b\b\b\b\b\b\b\b\b\b\b\b\b\b\b\b\b\b\b\b\b\b\b\b\b\b\b\b\b\n",
      "Epoch 4/10\n",
      "3/3 [==============================] - 70s 23s/step - loss: 0.1744\b\b\b\b\b\b\b\b\b\b\b\b\b\b\b\b\b\b\b\b\b\b\b\b\b\b\b\b\b\b\b\b\b\b\b\b\b\b\b\b\b\b\b\b\b\b\b\b\b\b\b\b\b\b\b\b\b\b\b\b\b\b\b\b\b\b\b\b\b\b\b\b\b\b\b\b\b\b\b\b\b\b\b\b\b\b\b\b\b\b\b\b\b\b\b\b\b\b\b\b\b\b\b\b\b\b\b\b\b\b\b\b\b\b\b\b\b\b\b\b\n",
      "Epoch 5/10\n",
      "3/3 [==============================] - 71s 24s/step - loss: 0.1716\b\b\b\b\b\b\b\b\b\b\b\b\b\b\b\b\b\b\b\b\b\b\b\b\b\b\b\b\b\b\b\b\b\b\b\b\b\b\b\b\b\b\b\b\b\b\b\b\b\b\b\b\b\b\b\b\b\b\b\b\b\b\b\b\b\b\b\b\b\b\b\b\b\b\b\b\b\b\b\b\b\b\b\b\b\b\b\b\b\b\b\b\b\b\b\b\b\b\b\b\b\b\b\b\b\b\b\b\b\b\b\b\b\b\b\b\b\b\b\b\n",
      "Epoch 6/10\n",
      "3/3 [==============================] - 73s 24s/step - loss: 0.1534\b\b\b\b\b\b\b\b\b\b\b\b\b\b\b\b\b\b\b\b\b\b\b\b\b\b\b\b\b\b\b\b\b\b\b\b\b\b\b\b\b\b\b\b\b\b\b\b\b\b\b\b\b\b\b\b\b\b\b\b\b\b\b\b\b\b\b\b\b\b\b\b\b\b\b\b\b\b\b\b\b\b\b\b\b\b\b\b\b\b\b\b\b\b\b\b\b\b\b\b\b\b\b\b\b\b\b\b\b\b\b\b\b\b\b\b\b\b\b\b\n",
      "Epoch 7/10\n",
      "3/3 [==============================] - 70s 23s/step - loss: 0.1553\b\b\b\b\b\b\b\b\b\b\b\b\b\b\b\b\b\b\b\b\b\b\b\b\b\b\b\b\b\b\b\b\b\b\b\b\b\b\b\b\b\b\b\b\b\b\b\b\b\b\b\b\b\b\b\b\b\b\b\b\b\b\b\b\b\b\b\b\b\b\b\b\b\b\b\b\b\b\b\b\b\b\b\b\b\b\b\b\b\b\b\b\b\b\b\b\b\b\b\b\b\b\b\b\b\b\b\b\b\b\b\b\b\b\b\b\b\b\b\b\n",
      "Epoch 8/10\n",
      "3/3 [==============================] - 74s 25s/step - loss: 0.1517\b\b\b\b\b\b\b\b\b\b\b\b\b\b\b\b\b\b\b\b\b\b\b\b\b\b\b\b\b\b\b\b\b\b\b\b\b\b\b\b\b\b\b\b\b\b\b\b\b\b\b\b\b\b\b\b\b\b\b\b\b\b\b\b\b\b\b\b\b\b\b\b\b\b\b\b\b\b\b\b\b\b\b\b\b\b\b\b\b\b\b\b\b\b\b\b\b\b\b\b\b\b\b\b\b\b\b\b\b\b\b\b\b\b\b\b\b\b\b\b\n",
      "Epoch 9/10\n",
      "3/3 [==============================] - 73s 24s/step - loss: 0.1477\b\b\b\b\b\b\b\b\b\b\b\b\b\b\b\b\b\b\b\b\b\b\b\b\b\b\b\b\b\b\b\b\b\b\b\b\b\b\b\b\b\b\b\b\b\b\b\b\b\b\b\b\b\b\b\b\b\b\b\b\b\b\b\b\b\b\b\b\b\b\b\b\b\b\b\b\b\b\b\b\b\b\b\b\b\b\b\b\b\b\b\b\b\b\b\b\b\b\b\b\b\b\b\b\b\b\b\b\b\b\b\b\b\b\b\b\b\b\b\b\n",
      "Epoch 10/10\n",
      "3/3 [==============================] - 73s 24s/step - loss: 0.1471\b\b\b\b\b\b\b\b\b\b\b\b\b\b\b\b\b\b\b\b\b\b\b\b\b\b\b\b\b\b\b\b\b\b\b\b\b\b\b\b\b\b\b\b\b\b\b\b\b\b\b\b\b\b\b\b\b\b\b\b\b\b\b\b\b\b\b\b\b\b\b\b\b\b\b\b\b\b\b\b\b\b\b\b\b\b\b\b\b\b\b\b\b\b\b\b\b\b\b\b\b\b\b\b\b\b\b\b\b\b\b\b\b\b\b\b\b\b\b\b\n"
     ]
    },
    {
     "data": {
      "text/plain": [
       "<keras.callbacks.History at 0x277ef5f86a0>"
      ]
     },
     "execution_count": 4,
     "metadata": {},
     "output_type": "execute_result"
    }
   ],
   "source": [
    "K.set_learning_phase(1)\n",
    "## Define vision model\n",
    "## Inception (currently doesn't work)\n",
    "cnn = InceptionV3(weights='imagenet',\n",
    "                  include_top='False',\n",
    "                  pooling='avg')\n",
    "\n",
    "# Works\n",
    "#cnn = VGG19(weights='imagenet',\n",
    "#            include_top='False', pooling='avg')\n",
    "\n",
    "cnn.trainable = False\n",
    "\n",
    "H=W=229\n",
    "C = 3\n",
    "video_input = Input(shape=(None,H,W,C), name='video_input')\n",
    "\n",
    "encoded_frame_sequence = TimeDistributed(cnn)(video_input)\n",
    "\n",
    "encoded_video = LSTM(256)(encoded_frame_sequence)\n",
    "\n",
    "output = Dense(256, activation='relu')(encoded_video)\n",
    "\n",
    "video_model = Model(inputs=[video_input], outputs=output)\n",
    "\n",
    "print(video_model.summary())\n",
    "\n",
    "video_model.compile(optimizer='adam', loss='mean_squared_error')\n",
    "\n",
    "#features = np.empty((0,1000))\n",
    "\n",
    "n_samples = 3\n",
    "n_frames = 50\n",
    "\n",
    "frame_sequence = np.random.randint(0.0,255.0,size=(n_samples, n_frames, H,W,C))\n",
    "\n",
    "y = np.random.random(size=(3,256,))\n",
    "y = np.reshape(y,(-1,256))\n",
    "\n",
    "print(frame_sequence.shape)\n",
    "\n",
    "video_model.fit(frame_sequence, y, validation_split=0.0,shuffle=False, batch_size=1, epochs=10)"
   ]
  },
  {
   "cell_type": "code",
   "execution_count": 5,
   "metadata": {
    "collapsed": false
   },
   "outputs": [
    {
     "name": "stdout",
     "output_type": "stream",
     "text": [
      "[[ 0.48865858  0.          0.5294463   0.          0.          0.32520968\n",
      "   0.41552249  0.38604072  0.59496617  0.          0.          0.\n",
      "   0.53711337  0.          0.41205114  0.56040323  0.54801589  0.\n",
      "   0.60234529  0.24092622  0.46270445  0.71826959  0.72436512  0.\n",
      "   0.50306886  0.10389024  0.55030888  0.68757224  0.62232822  0.77048045\n",
      "   0.22982058  0.28708664  0.4941746   0.68119562  0.          0.\n",
      "   0.57382393  0.26470238  0.51085168  0.57487714  0.64305335  0.30172488\n",
      "   0.          0.          0.32503846  0.53593308  0.          0.64809525\n",
      "   0.56800669  0.09362738  0.35162503  0.28015548  0.70102513  0.31345251\n",
      "   0.30695018  0.49150968  0.          0.28290972  0.51433855  0.62096369\n",
      "   0.          0.57412344  0.20297305  0.          0.58501166  0.48780191\n",
      "   0.30830514  0.73867971  0.32771659  0.28539708  0.5090133   0.34430093\n",
      "   0.48529592  0.          0.          0.19420263  0.45344388  0.3176997\n",
      "   0.4220477   0.36404058  0.          0.32214198  0.          0.39225113\n",
      "   0.86299253  0.61214697  0.23553585  0.2263328   0.6359061   0.34583476\n",
      "   0.70653546  0.56790549  0.31516621  0.39213613  0.50257587  0.57269573\n",
      "   0.51064336  0.          0.26433712  0.36394504  0.          0.\n",
      "   0.70893753  0.          0.51745492  0.          0.46015322  0.56960213\n",
      "   0.          0.52811801  0.59494442  0.42449549  0.          0.          0.\n",
      "   0.51605463  0.4655686   0.          0.          0.44306946  0.18532459\n",
      "   0.          0.1972561   0.75346839  0.32475367  0.          0.          0.\n",
      "   0.63101518  0.44816479  0.43935117  0.51979989  0.24863234  0.14409365\n",
      "   0.69141793  0.44218981  0.          0.          0.          0.          0.\n",
      "   0.49433824  0.71327072  0.37938604  0.          0.37103325  0.\n",
      "   0.33348668  0.10200068  0.          0.3099947   0.66379744  0.\n",
      "   0.38376924  0.          0.6504299   0.          0.          0.54959875\n",
      "   0.76970243  0.          0.52622002  0.          0.32342488  0.58925474\n",
      "   0.          0.10558726  0.          0.4452697   0.55324227  0.45662308\n",
      "   0.58098161  0.          0.          0.68344843  0.18852715  0.\n",
      "   0.42858988  0.29436779  0.          0.62783229  0.71753317  0.\n",
      "   0.58793235  0.          0.46702841  0.48791265  0.50909156  0.66310394\n",
      "   0.62460613  0.          0.          0.2608473   0.24582773  0.\n",
      "   0.33023897  0.          0.41023856  0.64386022  0.          0.          0.\n",
      "   0.31583196  0.59481913  0.          0.74942791  0.52307993  0.77358735\n",
      "   0.55563092  0.          0.          0.67878592  0.          0.\n",
      "   0.57715058  0.41817674  0.          0.          0.39179662  0.51806831\n",
      "   0.59074926  0.74019557  0.          0.38462129  0.          0.44576213\n",
      "   0.          0.48300442  0.51805836  0.          0.36283553  0.42374614\n",
      "   0.          0.          0.          0.34910256  0.52500492  0.54791176\n",
      "   0.18500686  0.          0.59122759  0.          0.57191104  0.38496289\n",
      "   0.25614101  0.4060615   0.43147591  0.          0.36587682  0.34155029\n",
      "   0.54320854  0.46297598  0.          0.          0.25216234  0.37143952]]\n"
     ]
    }
   ],
   "source": [
    "x = np.random.randint(0.0,255.0,size=(1, n_frames, H,W,C))\n",
    "result = video_model.predict(x, batch_size=32, verbose=0)\n",
    "print(result)"
   ]
  },
  {
   "cell_type": "code",
   "execution_count": null,
   "metadata": {
    "collapsed": true
   },
   "outputs": [],
   "source": []
  }
 ],
 "metadata": {
  "kernelspec": {
   "display_name": "Python 3",
   "language": "python",
   "name": "python3"
  },
  "language_info": {
   "codemirror_mode": {
    "name": "ipython",
    "version": 3
   },
   "file_extension": ".py",
   "mimetype": "text/x-python",
   "name": "python",
   "nbconvert_exporter": "python",
   "pygments_lexer": "ipython3",
   "version": "3.6.0"
  }
 },
 "nbformat": 4,
 "nbformat_minor": 2
}
