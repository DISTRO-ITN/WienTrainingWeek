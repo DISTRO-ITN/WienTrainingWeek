{
 "cells": [
  {
   "cell_type": "code",
   "execution_count": 5,
   "metadata": {
    "collapsed": true
   },
   "outputs": [],
   "source": [
    "import tensorflow as tf\n",
    "from keras import backend as K\n",
    "from keras.layers import Conv2D, MaxPooling2D, Flatten\n",
    "from keras.layers import Input, LSTM, Embedding, Dense\n",
    "from keras.models import Model, Sequential\n",
    "from keras.applications import InceptionV3, VGG19\n",
    "from keras.layers import TimeDistributed\n",
    "\n",
    "import numpy as np"
   ]
  },
  {
   "cell_type": "markdown",
   "metadata": {},
   "source": [
    "<img src=\"https://github.com/imatge-upc/activitynet-2016-cvprw/blob/master/misc/images/network_pipeline.jpg?raw=true\" height=\"424\" width=\"400\">"
   ]
  },
  {
   "cell_type": "code",
   "execution_count": null,
   "metadata": {
    "collapsed": true
   },
   "outputs": [],
   "source": [
    "# # define CNN model\n",
    "#cnn = Sequential()\n",
    "#cnn.add(Conv2D(...))\n",
    "#cnn.add(MaxPooling2D(...))\n",
    "#cnn.add(Flatten())\n",
    "# #define LSTM model\n",
    "#model = Sequential()\n",
    "#model.add(TimeDistributed(cnn, ...))\n",
    "#model.add(LSTM(..))\n",
    "#model.add(Dense(...))"
   ]
  },
  {
   "cell_type": "code",
   "execution_count": null,
   "metadata": {
    "collapsed": true
   },
   "outputs": [],
   "source": [
    "#model = Sequential()\n",
    "# # define CNN model\n",
    "#model.add(TimeDistributed(Conv2D(...))\n",
    "#model.add(TimeDistributed(MaxPooling2D(...)))\n",
    "#model.add(TimeDistributed(Flatten()))\n",
    "# # define LSTM model\n",
    "#model.add(LSTM(...))\n",
    "#model.add(Dense(...))"
   ]
  },
  {
   "cell_type": "code",
   "execution_count": 9,
   "metadata": {
    "collapsed": false
   },
   "outputs": [
    {
     "name": "stdout",
     "output_type": "stream",
     "text": [
      "_________________________________________________________________\n",
      "Layer (type)                 Output Shape              Param #   \n",
      "=================================================================\n",
      "video_input (InputLayer)     (None, None, 229, 229, 3) 0         \n",
      "_________________________________________________________________\n",
      "time_distributed_3 (TimeDist (None, None, 1000)        23851784  \n",
      "_________________________________________________________________\n",
      "lstm_3 (LSTM)                (None, 256)               1287168   \n",
      "_________________________________________________________________\n",
      "dense_3 (Dense)              (None, 256)               65792     \n",
      "=================================================================\n",
      "Total params: 25,204,744\n",
      "Trainable params: 1,352,960\n",
      "Non-trainable params: 23,851,784\n",
      "_________________________________________________________________\n",
      "None\n",
      "(3, 50, 229, 229, 3)\n",
      "Epoch 1/10\n",
      "3/3 [==============================] - 14s - loss: 0.3353    \n",
      "Epoch 2/10\n",
      "3/3 [==============================] - 13s - loss: 0.2953    \n",
      "Epoch 3/10\n",
      "3/3 [==============================] - 13s - loss: 0.1851    \n",
      "Epoch 4/10\n",
      "3/3 [==============================] - 13s - loss: 0.1614    \n",
      "Epoch 5/10\n",
      "3/3 [==============================] - 13s - loss: 0.1479    \n",
      "Epoch 6/10\n",
      "3/3 [==============================] - 13s - loss: 0.1423    \n",
      "Epoch 7/10\n",
      "3/3 [==============================] - 13s - loss: 0.1432    \n",
      "Epoch 8/10\n",
      "3/3 [==============================] - 13s - loss: 0.1412    \n",
      "Epoch 9/10\n",
      "3/3 [==============================] - 13s - loss: 0.1418    \n",
      "Epoch 10/10\n",
      "3/3 [==============================] - 13s - loss: 0.1402    \n"
     ]
    },
    {
     "data": {
      "text/plain": [
       "<keras.callbacks.History at 0x7fc42ef9b630>"
      ]
     },
     "execution_count": 9,
     "metadata": {},
     "output_type": "execute_result"
    }
   ],
   "source": [
    "K.set_learning_phase(1)\n",
    "## Define vision model\n",
    "## Inception (currently doesn't work)\n",
    "cnn = InceptionV3(weights='imagenet',\n",
    "                  include_top='False',\n",
    "                  pooling='avg')\n",
    "\n",
    "# Works\n",
    "#cnn = VGG19(weights='imagenet',\n",
    "#            include_top='False', pooling='avg')\n",
    "\n",
    "cnn.trainable = False\n",
    "\n",
    "H=W=229\n",
    "C = 3\n",
    "video_input = Input(shape=(None,H,W,C), name='video_input')\n",
    "\n",
    "encoded_frame_sequence = TimeDistributed(cnn)(video_input)\n",
    "\n",
    "encoded_video = LSTM(256)(encoded_frame_sequence)\n",
    "\n",
    "output = Dense(256, activation='relu')(encoded_video)\n",
    "\n",
    "video_model = Model(inputs=[video_input], outputs=output)\n",
    "\n",
    "print(video_model.summary())\n",
    "\n",
    "video_model.compile(optimizer='adam', loss='mean_squared_error')\n",
    "\n",
    "#features = np.empty((0,1000))\n",
    "\n",
    "n_samples = 3\n",
    "n_frames = 50\n",
    "\n",
    "frame_sequence = np.random.randint(0.0,255.0,size=(n_samples, n_frames, H,W,C))\n",
    "\n",
    "y = np.random.random(size=(3,256,))\n",
    "y = np.reshape(y,(-1,256))\n",
    "\n",
    "print(frame_sequence.shape)\n",
    "\n",
    "video_model.fit(frame_sequence, y, validation_split=0.0,shuffle=False, batch_size=1, epochs=10)"
   ]
  },
  {
   "cell_type": "code",
   "execution_count": 10,
   "metadata": {
    "collapsed": false
   },
   "outputs": [
    {
     "name": "stdout",
     "output_type": "stream",
     "text": [
      "[[ 0.57508457  0.47111577  0.          0.4969793   0.          0.28692758\n",
      "   0.31745499  0.53060335  0.27744123  0.22099857  0.4078286   0.31672418\n",
      "   0.78753668  0.68801999  0.15579243  0.36966991  0.56865865  0.\n",
      "   0.46641487  0.69373316  0.          0.32649231  0.45133561  0.22567311\n",
      "   0.37663752  0.          0.47825697  0.4894588   0.38366026  0.38479567\n",
      "   0.52781063  0.66596073  0.38631409  0.          0.62088341  0.38359594\n",
      "   0.          0.          0.25899696  0.64397085  0.41485003  0.\n",
      "   0.4413237   0.59009415  0.2826097   0.46042573  0.41553086  0.62110698\n",
      "   0.49359414  0.54919845  0.02490792  0.          0.          0.36843592\n",
      "   0.61469537  0.          0.78687555  0.51113957  0.36768728  0.47308585\n",
      "   0.78705084  0.48680741  0.          0.          0.61662161  0.          0.\n",
      "   0.55564499  0.          0.48431343  0.          0.          0.49410883\n",
      "   0.85904288  0.          0.          0.61789322  0.66593128  0.54468489\n",
      "   0.          0.40150172  0.34893247  0.          0.          0.6293152\n",
      "   0.17137331  0.29110134  0.          0.46045035  0.64902961  0.67260647\n",
      "   0.60426813  0.47057581  0.24147792  0.          0.36575222  0.68699789\n",
      "   0.          0.          0.75017452  0.          0.          0.78348809\n",
      "   0.53356755  0.          0.33339167  0.30736759  0.22738287  0.\n",
      "   0.46212071  0.2977522   0.          0.57492632  0.          0.45984203\n",
      "   0.49299747  0.          0.49472108  0.68906468  0.          0.\n",
      "   0.37471527  0.48108372  0.61526656  0.67335528  0.          0.31353533\n",
      "   0.51902008  0.          0.          0.45475337  0.42211053  0.          0.\n",
      "   0.48167723  0.07247131  0.84972805  0.65405387  0.31108564  0.56647968\n",
      "   0.44134879  0.          0.          0.2281806   0.          0.3270264\n",
      "   0.27305716  0.          0.60591865  0.30421397  0.59070688  0.51362073\n",
      "   0.          0.          0.          0.75081813  0.          0.36273685\n",
      "   0.5238868   0.25881895  0.73742598  0.73029828  0.59137428  0.45525724\n",
      "   0.          0.20839649  0.26634935  0.          0.          0.71973556\n",
      "   0.          0.59762824  0.          0.          0.56690955  0.\n",
      "   0.36497974  0.623923    0.20839986  0.72330624  0.72450787  0.40099114\n",
      "   0.          0.47642657  0.42514408  0.69388038  0.          0.52347618\n",
      "   0.          0.42239764  0.          0.53434467  0.37456325  0.77945298\n",
      "   0.35464621  0.37595928  0.42178798  0.40312397  0.60588467  0.44233298\n",
      "   0.          0.70247096  0.42575309  0.46279207  0.          0.\n",
      "   0.46575412  0.30672109  0.41911742  0.          0.48734182  0.67191291\n",
      "   0.          0.19654751  0.26914486  0.22071111  0.5038076   0.89420027\n",
      "   0.55853343  0.          0.52373427  0.36372402  0.37325516  0.30598813\n",
      "   0.37984896  0.72068679  0.48736587  0.64765978  0.37652764  0.61636585\n",
      "   0.39935547  0.31626257  0.59330523  0.51361114  0.47076455  0.          0.\n",
      "   0.          0.61847484  0.56088346  0.52039152  0.70229179  0.46986133\n",
      "   0.29467705  0.39443326  0.          0.69731367  0.65798813  0.47305816\n",
      "   0.63232696  0.52850461  0.55005825  0.58863884  0.48632416  0.\n",
      "   0.31902882]]\n"
     ]
    }
   ],
   "source": [
    "x = np.random.randint(0.0,255.0,size=(1, n_frames, H,W,C))\n",
    "result = video_model.predict(x, batch_size=32, verbose=0)\n",
    "print(result)"
   ]
  },
  {
   "cell_type": "code",
   "execution_count": null,
   "metadata": {
    "collapsed": true
   },
   "outputs": [],
   "source": []
  }
 ],
 "metadata": {
  "kernelspec": {
   "display_name": "Python 3",
   "language": "python",
   "name": "python3"
  },
  "language_info": {
   "codemirror_mode": {
    "name": "ipython",
    "version": 3
   },
   "file_extension": ".py",
   "mimetype": "text/x-python",
   "name": "python",
   "nbconvert_exporter": "python",
   "pygments_lexer": "ipython3",
   "version": "3.6.0"
  }
 },
 "nbformat": 4,
 "nbformat_minor": 2
}
