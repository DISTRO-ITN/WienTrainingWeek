{
 "cells": [
  {
   "cell_type": "code",
   "execution_count": 1,
   "metadata": {},
   "outputs": [
    {
     "name": "stdout",
     "output_type": "stream",
     "text": [
      "Fetching package metadata ...........\n",
      "\n",
      "PackageNotFoundError: Packages missing in current channels:\n",
      "            \n",
      "  - sk-learn\n",
      "\n",
      "We have searched for the packages in the following channels:\n",
      "            \n",
      "  - https://repo.continuum.io/pkgs/main/linux-64\n",
      "  - https://repo.continuum.io/pkgs/main/noarch\n",
      "  - https://repo.continuum.io/pkgs/free/linux-64\n",
      "  - https://repo.continuum.io/pkgs/free/noarch\n",
      "  - https://repo.continuum.io/pkgs/r/linux-64\n",
      "  - https://repo.continuum.io/pkgs/r/noarch\n",
      "  - https://repo.continuum.io/pkgs/pro/linux-64\n",
      "  - https://repo.continuum.io/pkgs/pro/noarch\n",
      "            \n",
      "\n"
     ]
    }
   ],
   "source": [
    "!conda install --name root sk-learn -y"
   ]
  },
  {
   "cell_type": "code",
   "execution_count": 2,
   "metadata": {},
   "outputs": [
    {
     "name": "stdout",
     "output_type": "stream",
     "text": [
      "Fetching package metadata ...........\n",
      "Solving package specifications: .\n",
      "\n",
      "# All requested packages already installed.\n",
      "# packages in environment at /home/nbcommon/anaconda3_431:\n",
      "#\n",
      "pandas                    0.20.3           py36h842e28d_2  \n"
     ]
    }
   ],
   "source": [
    "!conda install --name root pandas -y"
   ]
  },
  {
   "cell_type": "code",
   "execution_count": 5,
   "metadata": {},
   "outputs": [
    {
     "name": "stdout",
     "output_type": "stream",
     "text": [
      "Fetching package metadata .............\n",
      "Solving package specifications: .\n",
      "\n",
      "Package plan for installation in environment /home/nbcommon/anaconda3_431:\n",
      "\n",
      "The following packages will be SUPERSEDED by a higher-priority channel:\n",
      "\n",
      "    conda:     4.3.27-py36h2866c0b_0 --> 4.3.27-py36_0 conda-forge\n",
      "    conda-env: 2.6.0-h36134e3_1      --> 2.6.0-0       conda-forge\n",
      "\n"
     ]
    }
   ],
   "source": [
    "!conda install --name root -c conda-forge tensorflow -y"
   ]
  },
  {
   "cell_type": "code",
   "execution_count": 6,
   "metadata": {},
   "outputs": [
    {
     "name": "stdout",
     "output_type": "stream",
     "text": [
      "Fetching package metadata ...........\n",
      "Solving package specifications: .\n",
      "\n",
      "Package plan for installation in environment /home/nbcommon/anaconda3_431:\n",
      "\n",
      "The following packages will be UPDATED:\n",
      "\n",
      "    conda-env: 2.6.0-0       conda-forge --> 2.6.0-h36134e3_1     \n",
      "\n",
      "The following packages will be SUPERSEDED by a higher-priority channel:\n",
      "\n",
      "    conda:     4.3.27-py36_0 conda-forge --> 4.3.27-py36h2866c0b_0\n",
      "\n"
     ]
    }
   ],
   "source": [
    "!conda install --name root keras -y"
   ]
  },
  {
   "cell_type": "code",
   "execution_count": 9,
   "metadata": {},
   "outputs": [
    {
     "name": "stdout",
     "output_type": "stream",
     "text": [
      "Fetching package metadata ...........\n",
      "Solving package specifications: .\n",
      "\n",
      "Package plan for installation in environment /home/nbcommon/anaconda3_431:\n",
      "\n",
      "The following NEW packages will be INSTALLED:\n",
      "\n",
      "    dask-core:        0.15.3-py36h10e6167_0\n",
      "    distributed:      1.19.1-py36h25f3894_0\n",
      "    sortedcontainers: 1.5.7-py36hdf89491_0 \n",
      "    tblib:            1.3.2-py36h34cf8b6_0 \n",
      "    zict:             0.1.3-py36h3a3bf81_0 \n",
      "\n",
      "The following packages will be UPDATED:\n",
      "\n",
      "    dask:             0.13.0-py36_0         --> 0.15.3-py36hdc2c8aa_0\n",
      "    partd:            0.3.7-py36_0          --> 0.3.8-py36h36fd896_0 \n",
      "    tornado:          4.4.2-py36_0          --> 4.5.2-py36h1283b2a_0 \n",
      "\n",
      "dask-core-0.15 100% |################################| Time: 0:00:00   6.34 MB/s\n",
      "sortedcontaine 100% |################################| Time: 0:00:00  20.06 MB/s\n",
      "tblib-1.3.2-py 100% |################################| Time: 0:00:00  25.07 MB/s\n",
      "tornado-4.5.2- 100% |################################| Time: 0:00:00  10.92 MB/s\n",
      "partd-0.3.8-py 100% |################################| Time: 0:00:00  35.16 MB/s\n",
      "zict-0.1.3-py3 100% |################################| Time: 0:00:00  21.95 MB/s\n",
      "distributed-1. 100% |################################| Time: 0:00:00  13.96 MB/s\n",
      "dask-0.15.3-py 100% |################################| Time: 0:00:00   6.46 MB/s\n"
     ]
    }
   ],
   "source": [
    "!conda install --name root dask -y"
   ]
  },
  {
   "cell_type": "code",
   "execution_count": 10,
   "metadata": {},
   "outputs": [],
   "source": [
    "import numpy\n",
    "import matplotlib.pyplot as plt\n",
    "import pandas\n",
    "import math\n",
    "from keras.models import Sequential\n",
    "from keras.layers import Dense\n",
    "from keras.layers import LSTM\n",
    "from sklearn.preprocessing import MinMaxScaler\n",
    "from sklearn.metrics import mean_squared_error\n",
    "\n",
    "# fix random seed for reproducibility\n",
    "numpy.random.seed(7)"
   ]
  },
  {
   "cell_type": "code",
   "execution_count": 11,
   "metadata": {},
   "outputs": [
    {
     "data": {
      "image/png": "[encoded data removed]",
      "text/plain": [
       "<matplotlib.figure.Figure at 0x7f5563fb3a20>"
      ]
     },
     "metadata": {},
     "output_type": "display_data"
    }
   ],
   "source": [
    "import matplotlib.pyplot as plt\n",
    "dataset = pandas.read_csv('international-airline-passengers.csv', usecols=[1], engine='python', skipfooter=3)\n",
    "plt.plot(dataset)\n",
    "plt.show()"
   ]
  },
  {
   "cell_type": "code",
   "execution_count": 12,
   "metadata": {
    "collapsed": true
   },
   "outputs": [],
   "source": [
    "dataframe = pandas.read_csv('international-airline-passengers.csv', usecols=[1], engine='python', skipfooter=3)\n",
    "dataset = dataframe.values\n",
    "dataset = dataset.astype('float32')"
   ]
  },
  {
   "cell_type": "markdown",
   "metadata": {},
   "source": [
    "# Data normalization"
   ]
  },
  {
   "cell_type": "code",
   "execution_count": 13,
   "metadata": {
    "collapsed": true
   },
   "outputs": [],
   "source": [
    "# normalize the dataset\n",
    "scaler = MinMaxScaler(feature_range=(0, 1))\n",
    "dataset = scaler.fit_transform(dataset)\n",
    "\n",
    "# normalize the dataset\n",
    "scaler = MinMaxScaler(feature_range=(0, 1))\n",
    "dataset = scaler.fit_transform(dataset)"
   ]
  },
  {
   "cell_type": "markdown",
   "metadata": {},
   "source": [
    "# Training / Test data splitting"
   ]
  },
  {
   "cell_type": "code",
   "execution_count": 14,
   "metadata": {},
   "outputs": [
    {
     "name": "stdout",
     "output_type": "stream",
     "text": [
      "96 48\n",
      "96 48\n"
     ]
    }
   ],
   "source": [
    "# split into train and test sets\n",
    "train_size = int(len(dataset) * 0.67)\n",
    "test_size = len(dataset) - train_size\n",
    "train, test = dataset[0:train_size,:], dataset[train_size:len(dataset),:]\n",
    "print(len(train), len(test))\n",
    "\n",
    "# split into train and test sets\n",
    "train_size = int(len(dataset) * 0.67)\n",
    "test_size = len(dataset) - train_size\n",
    "train, test = dataset[0:train_size,:], dataset[train_size:len(dataset),:]\n",
    "print(len(train), len(test))"
   ]
  },
  {
   "cell_type": "markdown",
   "metadata": {},
   "source": [
    "# Create matrix considering 'n' previous timesteps"
   ]
  },
  {
   "cell_type": "code",
   "execution_count": 15,
   "metadata": {
    "collapsed": true
   },
   "outputs": [],
   "source": [
    "# convert an array of values into a dataset matrix\n",
    "def create_dataset(dataset, look_back=1):\n",
    "    dataX, dataY = [], []\n",
    "    for i in range(len(dataset)-look_back-1):\n",
    "        a = dataset[i:(i+look_back), 0]\n",
    "        dataX.append(a)\n",
    "        dataY.append(dataset[i + look_back, 0])\n",
    "    return numpy.array(dataX), numpy.array(dataY)"
   ]
  },
  {
   "cell_type": "code",
   "execution_count": 37,
   "metadata": {},
   "outputs": [],
   "source": [
    "# reshape into X=t and Y=t+1\n",
    "look_back = 2\n",
    "trainX, trainY = create_dataset(train, look_back)\n",
    "testX, testY = create_dataset(test, look_back)"
   ]
  },
  {
   "cell_type": "markdown",
   "metadata": {},
   "source": [
    "#  Reshaping the input"
   ]
  },
  {
   "cell_type": "code",
   "execution_count": 38,
   "metadata": {},
   "outputs": [],
   "source": [
    "# reshape input to be [samples, time steps, features]\n",
    "trainX = numpy.reshape(trainX, (trainX.shape[0], 1, trainX.shape[1])) # it is like a volume now (z is the feature)\n",
    "testX = numpy.reshape(testX, (testX.shape[0], 1, testX.shape[1]))"
   ]
  },
  {
   "cell_type": "markdown",
   "metadata": {},
   "source": [
    "# Build LSTM Model"
   ]
  },
  {
   "cell_type": "code",
   "execution_count": 39,
   "metadata": {},
   "outputs": [
    {
     "name": "stdout",
     "output_type": "stream",
     "text": [
      "Epoch 1/100\n",
      "0s - loss: 0.0457\n",
      "Epoch 2/100\n",
      "0s - loss: 0.0207\n",
      "Epoch 3/100\n",
      "0s - loss: 0.0147\n",
      "Epoch 4/100\n",
      "0s - loss: 0.0129\n",
      "Epoch 5/100\n",
      "0s - loss: 0.0116\n",
      "Epoch 6/100\n",
      "0s - loss: 0.0104\n",
      "Epoch 7/100\n",
      "0s - loss: 0.0092\n",
      "Epoch 8/100\n",
      "0s - loss: 0.0081\n",
      "Epoch 9/100\n",
      "0s - loss: 0.0071\n",
      "Epoch 10/100\n",
      "0s - loss: 0.0062\n",
      "Epoch 11/100\n",
      "0s - loss: 0.0056\n",
      "Epoch 12/100\n",
      "0s - loss: 0.0049\n",
      "Epoch 13/100\n",
      "0s - loss: 0.0045\n",
      "Epoch 14/100\n",
      "0s - loss: 0.0041\n",
      "Epoch 15/100\n",
      "0s - loss: 0.0041\n",
      "Epoch 16/100\n",
      "0s - loss: 0.0039\n",
      "Epoch 17/100\n",
      "0s - loss: 0.0038\n",
      "Epoch 18/100\n",
      "0s - loss: 0.0038\n",
      "Epoch 19/100\n",
      "0s - loss: 0.0038\n",
      "Epoch 20/100\n",
      "0s - loss: 0.0037\n",
      "Epoch 21/100\n",
      "0s - loss: 0.0037\n",
      "Epoch 22/100\n",
      "0s - loss: 0.0037\n",
      "Epoch 23/100\n",
      "0s - loss: 0.0036\n",
      "Epoch 24/100\n",
      "0s - loss: 0.0035\n",
      "Epoch 25/100\n",
      "0s - loss: 0.0035\n",
      "Epoch 26/100\n",
      "0s - loss: 0.0035\n",
      "Epoch 27/100\n",
      "0s - loss: 0.0035\n",
      "Epoch 28/100\n",
      "0s - loss: 0.0036\n",
      "Epoch 29/100\n",
      "0s - loss: 0.0035\n",
      "Epoch 30/100\n",
      "0s - loss: 0.0035\n",
      "Epoch 31/100\n",
      "0s - loss: 0.0035\n",
      "Epoch 32/100\n",
      "0s - loss: 0.0034\n",
      "Epoch 33/100\n",
      "0s - loss: 0.0034\n",
      "Epoch 34/100\n",
      "0s - loss: 0.0033\n",
      "Epoch 35/100\n",
      "0s - loss: 0.0033\n",
      "Epoch 36/100\n",
      "0s - loss: 0.0033\n",
      "Epoch 37/100\n",
      "0s - loss: 0.0033\n",
      "Epoch 38/100\n",
      "0s - loss: 0.0032\n",
      "Epoch 39/100\n",
      "0s - loss: 0.0032\n",
      "Epoch 40/100\n",
      "0s - loss: 0.0032\n",
      "Epoch 41/100\n",
      "0s - loss: 0.0031\n",
      "Epoch 42/100\n",
      "0s - loss: 0.0031\n",
      "Epoch 43/100\n",
      "0s - loss: 0.0031\n",
      "Epoch 44/100\n",
      "0s - loss: 0.0031\n",
      "Epoch 45/100\n",
      "0s - loss: 0.0031\n",
      "Epoch 46/100\n",
      "0s - loss: 0.0030\n",
      "Epoch 47/100\n",
      "0s - loss: 0.0032\n",
      "Epoch 48/100\n",
      "0s - loss: 0.0031\n",
      "Epoch 49/100\n",
      "0s - loss: 0.0030\n",
      "Epoch 50/100\n",
      "0s - loss: 0.0029\n",
      "Epoch 51/100\n",
      "0s - loss: 0.0029\n",
      "Epoch 52/100\n",
      "0s - loss: 0.0030\n",
      "Epoch 53/100\n",
      "0s - loss: 0.0029\n",
      "Epoch 54/100\n",
      "0s - loss: 0.0029\n",
      "Epoch 55/100\n",
      "0s - loss: 0.0029\n",
      "Epoch 56/100\n",
      "0s - loss: 0.0028\n",
      "Epoch 57/100\n",
      "0s - loss: 0.0028\n",
      "Epoch 58/100\n",
      "0s - loss: 0.0027\n",
      "Epoch 59/100\n",
      "0s - loss: 0.0027\n",
      "Epoch 60/100\n",
      "0s - loss: 0.0026\n",
      "Epoch 61/100\n",
      "0s - loss: 0.0026\n",
      "Epoch 62/100\n",
      "0s - loss: 0.0027\n",
      "Epoch 63/100\n",
      "0s - loss: 0.0026\n",
      "Epoch 64/100\n",
      "0s - loss: 0.0025\n",
      "Epoch 65/100\n",
      "0s - loss: 0.0025\n",
      "Epoch 66/100\n",
      "0s - loss: 0.0025\n",
      "Epoch 67/100\n",
      "0s - loss: 0.0024\n",
      "Epoch 68/100\n",
      "0s - loss: 0.0024\n",
      "Epoch 69/100\n",
      "0s - loss: 0.0023\n",
      "Epoch 70/100\n",
      "0s - loss: 0.0024\n",
      "Epoch 71/100\n",
      "0s - loss: 0.0024\n",
      "Epoch 72/100\n",
      "0s - loss: 0.0023\n",
      "Epoch 73/100\n",
      "0s - loss: 0.0022\n",
      "Epoch 74/100\n",
      "0s - loss: 0.0023\n",
      "Epoch 75/100\n",
      "0s - loss: 0.0022\n",
      "Epoch 76/100\n",
      "0s - loss: 0.0021\n",
      "Epoch 77/100\n",
      "0s - loss: 0.0021\n",
      "Epoch 78/100\n",
      "0s - loss: 0.0021\n",
      "Epoch 79/100\n",
      "0s - loss: 0.0020\n",
      "Epoch 80/100\n",
      "0s - loss: 0.0019\n",
      "Epoch 81/100\n",
      "0s - loss: 0.0020\n",
      "Epoch 82/100\n",
      "0s - loss: 0.0019\n",
      "Epoch 83/100\n",
      "0s - loss: 0.0019\n",
      "Epoch 84/100\n",
      "0s - loss: 0.0020\n",
      "Epoch 85/100\n",
      "0s - loss: 0.0019\n",
      "Epoch 86/100\n",
      "0s - loss: 0.0020\n",
      "Epoch 87/100\n",
      "0s - loss: 0.0018\n",
      "Epoch 88/100\n",
      "0s - loss: 0.0018\n",
      "Epoch 89/100\n",
      "0s - loss: 0.0018\n",
      "Epoch 90/100\n",
      "0s - loss: 0.0018\n",
      "Epoch 91/100\n",
      "0s - loss: 0.0017\n",
      "Epoch 92/100\n",
      "0s - loss: 0.0018\n",
      "Epoch 93/100\n",
      "0s - loss: 0.0020\n",
      "Epoch 94/100\n",
      "0s - loss: 0.0018\n",
      "Epoch 95/100\n",
      "0s - loss: 0.0018\n",
      "Epoch 96/100\n",
      "0s - loss: 0.0018\n",
      "Epoch 97/100\n",
      "0s - loss: 0.0018\n",
      "Epoch 98/100\n",
      "0s - loss: 0.0017\n",
      "Epoch 99/100\n",
      "0s - loss: 0.0018\n",
      "Epoch 100/100\n",
      "0s - loss: 0.0017\n"
     ]
    },
    {
     "data": {
      "text/plain": [
       "<keras.callbacks.History at 0x7f55532a6160>"
      ]
     },
     "execution_count": 39,
     "metadata": {},
     "output_type": "execute_result"
    }
   ],
   "source": [
    "# create and fit the LSTM network\n",
    "model = Sequential()\n",
    "model.add(LSTM(4, input_shape=(1, look_back)))\n",
    "model.add(Dense(1))\n",
    "model.compile(loss='mean_squared_error', optimizer='adam')\n",
    "model.fit(trainX, trainY, epochs=100, batch_size=1, verbose=2)"
   ]
  },
  {
   "cell_type": "code",
   "execution_count": 40,
   "metadata": {},
   "outputs": [
    {
     "name": "stdout",
     "output_type": "stream",
     "text": [
      "Train Score: 0.04 RMSE\n",
      "Test Score: 0.10 RMSE\n"
     ]
    }
   ],
   "source": [
    "# make predictions\n",
    "trainPredict = model.predict(trainX)\n",
    "testPredict = model.predict(testX)\n",
    "# invert predictions\n",
    "trainPredict = scaler.inverse_transform(trainPredict)\n",
    "trainY = scaler.inverse_transform([trainY])\n",
    "testPredict = scaler.inverse_transform(testPredict)\n",
    "testY = scaler.inverse_transform([testY])\n",
    "# calculate root mean squared error\n",
    "trainScore = math.sqrt(mean_squared_error(trainY[0], trainPredict[:,0]))\n",
    "print('Train Score: %.2f RMSE' % (trainScore))\n",
    "testScore = math.sqrt(mean_squared_error(testY[0], testPredict[:,0]))\n",
    "print('Test Score: %.2f RMSE' % (testScore))"
   ]
  },
  {
   "cell_type": "code",
   "execution_count": 43,
   "metadata": {},
   "outputs": [
    {
     "data": {
      "image/png": "[encoded data removed]",
      "text/plain": [
       "<matplotlib.figure.Figure at 0x7f55500a8550>"
      ]
     },
     "metadata": {},
     "output_type": "display_data"
    }
   ],
   "source": [
    "# shift train predictions for plotting\n",
    "trainPredictPlot = numpy.empty_like(dataset)\n",
    "trainPredictPlot[:, :] = numpy.nan\n",
    "trainPredictPlot[look_back:len(trainPredict)+look_back, :] = trainPredict\n",
    "# shift test predictions for plotting\n",
    "testPredictPlot = numpy.empty_like(dataset)\n",
    "testPredictPlot[:, :] = numpy.nan\n",
    "testPredictPlot[len(trainPredict)+(look_back*2)+1:len(dataset)-1, :] = testPredict\n",
    "# plot baseline and predictions\n",
    "plt.plot(scaler.inverse_transform(dataset))\n",
    "plt.plot(trainPredictPlot)\n",
    "plt.plot(testPredictPlot)\n",
    "plt.show()"
   ]
  },
  {
   "cell_type": "code",
   "execution_count": null,
   "metadata": {
    "collapsed": true
   },
   "outputs": [],
   "source": []
  }
 ],
 "metadata": {
  "kernelspec": {
   "display_name": "Python 3.6",
   "language": "python",
   "name": "python36"
  },
  "language_info": {
   "codemirror_mode": {
    "name": "ipython",
    "version": 3
   },
   "file_extension": ".py",
   "mimetype": "text/x-python",
   "name": "python",
   "nbconvert_exporter": "python",
   "pygments_lexer": "ipython3",
   "version": "3.6.0"
  }
 },
 "nbformat": 4,
 "nbformat_minor": 2
}
