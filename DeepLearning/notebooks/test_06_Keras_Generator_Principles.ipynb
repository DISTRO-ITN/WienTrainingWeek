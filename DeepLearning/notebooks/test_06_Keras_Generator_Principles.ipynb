{
 "cells": [
  {
   "cell_type": "markdown",
   "metadata": {},
   "source": [
    "# Generator in Keras\n",
    "# For Working Example Check in my PC"
   ]
  },
  {
   "cell_type": "markdown",
   "metadata": {},
   "source": [
    "# Data Generation"
   ]
  },
  {
   "cell_type": "code",
   "execution_count": 71,
   "metadata": {
    "collapsed": true
   },
   "outputs": [],
   "source": [
    "import numpy as np\n",
    "import pandas as pd\n",
    "data = np.random.rand(200,2)\n",
    "expected = np.random.randint(2, size=200).reshape(-1,1)\n",
    "\n",
    "dataFrame = pd.DataFrame(data, columns = ['a','b'])\n",
    "expectedFrame = pd.DataFrame(expected, columns = ['expected'])\n",
    "\n",
    "dataFrameTrain, dataFrameTest = dataFrame[:100],dataFrame[-100:]\n",
    "expectedFrameTrain, expectedFrameTest = expectedFrame[:100],expectedFrame[-100:]"
   ]
  },
  {
   "cell_type": "markdown",
   "metadata": {},
   "source": [
    "# Generator"
   ]
  },
  {
   "cell_type": "code",
   "execution_count": 72,
   "metadata": {
    "collapsed": true
   },
   "outputs": [],
   "source": [
    "def generator(X_data, y_data, batch_size):\n",
    "\n",
    "  samples_per_epoch = X_data.shape[0]\n",
    "  number_of_batches = samples_per_epoch/batch_size\n",
    "  counter=0\n",
    "\n",
    "  while 1:\n",
    "\n",
    "    X_batch = np.array(X_data[batch_size*counter:batch_size*(counter+1)]).astype('float32')\n",
    "    y_batch = np.array(y_data[batch_size*counter:batch_size*(counter+1)]).astype('float32')\n",
    "    counter += 1\n",
    "    yield X_batch,y_batch\n",
    "\n",
    "    #restart counter to yeild data in the next epoch as well\n",
    "    if counter <= number_of_batches:\n",
    "        counter = 0"
   ]
  },
  {
   "cell_type": "markdown",
   "metadata": {},
   "source": [
    "# Keras Model"
   ]
  },
  {
   "cell_type": "code",
   "execution_count": null,
   "metadata": {
    "collapsed": true
   },
   "outputs": [],
   "source": [
    "# from keras.datasets import mnist\n",
    "from keras.models import Sequential\n",
    "from keras.layers.core import Dense, Dropout, Activation, Flatten, Reshape\n",
    "from keras.layers.convolutional import Convolution1D, Convolution2D, MaxPooling2D\n",
    "from keras.utils import np_utils\n",
    "\n",
    "\n",
    "model = Sequential()\n",
    "model.add(Dense(12, activation='relu', input_dim=dataFrame.shape[1]))\n",
    "model.add(Dense(1, activation='sigmoid'))\n",
    "\n",
    "\n",
    "model.compile(loss='binary_crossentropy', optimizer='adadelta', metrics=['accuracy'])\n",
    "\n",
    "#Train the model using generator vs using full batch\n",
    "batch_size = 8\n",
    "\n",
    "model.fit_generator(generator(dataFrameTrain,expectedFrameTrain,batch_size), epochs=200,steps_per_epoch = dataFrame.shape[0]/batch_size, validation_data=generator(dataFrameTest,expectedFrameTest,batch_size*2),validation_steps=dataFrame.shape[0]/batch_size*2)\n",
    "\n",
    "#without generator\n",
    "#model.fit(x = np.array(dataFrame), y = np.array(expected), batch_size = batch_size, epochs = 3)"
   ]
  },
  {
   "cell_type": "markdown",
   "metadata": {},
   "source": [
    "# Bonus - Thread Safe Generator example"
   ]
  },
  {
   "cell_type": "code",
   "execution_count": null,
   "metadata": {
    "collapsed": true
   },
   "outputs": [],
   "source": [
    "class createBatchGenerator:\n",
    "\n",
    "    def __init__(self, driving_log,batch_size=32):\n",
    "        self.driving_log = driving_log\n",
    "        self.batch_size = batch_size\n",
    "\n",
    "    def __iter__(self):\n",
    "        return self\n",
    "\n",
    "    def next(self):\n",
    "        with self.lock:\n",
    "           batch_images = np.zeros((batch_size, 66, 200, 3))\n",
    "           batch_steering = np.zeros(batch_size)\n",
    "\n",
    "           for i in range(self.batch_size):\n",
    "               x,y = get_preprocessed_row(self.driving_log)\n",
    "               batch_images[i]=x\n",
    "               batch_steering[i]=y\n",
    "           return batch_images, batch_steering"
   ]
  },
  {
   "cell_type": "markdown",
   "metadata": {},
   "source": [
    "# Bonus... another example"
   ]
  },
  {
   "cell_type": "code",
   "execution_count": null,
   "metadata": {
    "collapsed": true
   },
   "outputs": [],
   "source": [
    "class DataGenerator(object):\n",
    "  'Generates data for Keras'\n",
    "  def __init__(self, dim_x = 32, dim_y = 32, dim_z = 32, batch_size = 32, shuffle = True):\n",
    "      'Initialization'\n",
    "      self.dim_x = dim_x\n",
    "      self.dim_y = dim_y\n",
    "      self.dim_z = dim_z\n",
    "      self.batch_size = batch_size\n",
    "      self.shuffle = shuffle\n",
    "\n",
    "  def generate(self, labels, list_IDs):\n",
    "      'Generates batches of samples'\n",
    "      # Infinite loop\n",
    "      while 1:\n",
    "          # Generate order of exploration of dataset\n",
    "          indexes = self.__get_exploration_order(list_IDs)\n",
    "\n",
    "          # Generate batches\n",
    "          imax = int(len(indexes)/self.batch_size)\n",
    "          for i in range(imax):\n",
    "              # Find list of IDs\n",
    "              list_IDs_temp = [list_IDs[k] for k in indexes[i*self.batch_size:(i+1)*self.batch_size]]\n",
    "\n",
    "              # Generate data\n",
    "              X, y = self.__data_generation(labels, list_IDs_temp)\n",
    "\n",
    "              yield X, y\n",
    "\n",
    "  def __get_exploration_order(self, list_IDs):\n",
    "      'Generates order of exploration'\n",
    "      # Find exploration order\n",
    "      indexes = np.arange(len(list_IDs))\n",
    "      if self.shuffle == True:\n",
    "          np.random.shuffle(indexes)\n",
    "\n",
    "      return indexes\n",
    "\n",
    "  def __data_generation(self, labels, list_IDs_temp):\n",
    "      'Generates data of batch_size samples' # X : (n_samples, v_size, v_size, v_size, n_channels)\n",
    "      # Initialization\n",
    "      X = np.empty((self.batch_size, self.dim_x, self.dim_y, self.dim_z, 1))\n",
    "      y = np.empty((self.batch_size), dtype = int)\n",
    "\n",
    "      # Generate data\n",
    "      for i, ID in enumerate(list_IDs_temp):\n",
    "          # Store volume\n",
    "          X[i, :, :, :, 0] = np.load(ID + '.npy')\n",
    "\n",
    "          # Store class\n",
    "          y[i] = labels[ID]\n",
    "\n",
    "      return X, sparsify(y)\n"
   ]
  }
 ],
 "metadata": {
  "kernelspec": {
   "display_name": "Python 3.6",
   "language": "python",
   "name": "python36"
  },
  "language_info": {
   "codemirror_mode": {
    "name": "ipython",
    "version": 3
   },
   "file_extension": ".py",
   "mimetype": "text/x-python",
   "name": "python",
   "nbconvert_exporter": "python",
   "pygments_lexer": "ipython3",
   "version": "3.6.0"
  }
 },
 "nbformat": 4,
 "nbformat_minor": 2
}
